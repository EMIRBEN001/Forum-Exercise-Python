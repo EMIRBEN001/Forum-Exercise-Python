{
 "cells": [
  {
   "cell_type": "code",
   "execution_count": 1,
   "metadata": {},
   "outputs": [
    {
     "name": "stdout",
     "output_type": "stream",
     "text": [
      "The radius of a circle is 314.0\n"
     ]
    }
   ],
   "source": [
    "# 1. Write a Python program which accepts the radius of a circle from the user and compute the area\n",
    "r = eval(input(\"Enter the Radius of the circle: \"))\n",
    "pi = eval(input(\"Enter the value constant of pi: \"))\n",
    "formula = (pi * r * r)\n",
    "print(\"The radius of a circle is\", formula)\n"
   ]
  },
  {
   "cell_type": "code",
   "execution_count": 2,
   "metadata": {},
   "outputs": [
    {
     "name": "stdout",
     "output_type": "stream",
     "text": [
      "Emir Ben\n",
      "Just because i asked for your name doesn't mean i like you or something BAKA (> v <)\n"
     ]
    }
   ],
   "source": [
    "#2. Write a Python program which accepts the user's first and last name and print them in reverse order with a space between them.\n",
    "first = input(\"Enter your First name: \")\n",
    "last = input(\"Enter your last name UWU: \")\n",
    "print(first , last)\n",
    "print(\"Just because i asked for your name doesn't mean i like you or something BAKA (> v <)\")"
   ]
  },
  {
   "cell_type": "code",
   "execution_count": 3,
   "metadata": {},
   "outputs": [
    {
     "name": "stdout",
     "output_type": "stream",
     "text": [
      "['Red', 'Green', 'White', 'Black']\n"
     ]
    }
   ],
   "source": [
    "# 3. Write a Python program to display the first and last colors from the following list.\n",
    "# color_list = [\"Red\",\"Green\",\"White\",\"Black\"]\n",
    "color_list = [\"Red\", \"Green\", \"White\", \"Black\"]\n",
    "print(color_list)"
   ]
  },
  {
   "cell_type": "code",
   "execution_count": 4,
   "metadata": {},
   "outputs": [
    {
     "name": "stdout",
     "output_type": "stream",
     "text": [
      "615\n"
     ]
    }
   ],
   "source": [
    "# 4. Write a Python program that accepts an integer (n) and computes the value of n+nn+nnn.\n",
    "x = eval(input(\"Enter an integer : \"))\n",
    "n1 = eval( \"%s\" % x )\n",
    "n2 = eval( \"%s%s\" % (x,x) )\n",
    "n3 = eval( \"%s%s%s\" % (x,x,x) )\n",
    "print (n1+n2+n3)\n"
   ]
  },
  {
   "cell_type": "code",
   "execution_count": 5,
   "metadata": {},
   "outputs": [
    {
     "name": "stdout",
     "output_type": "stream",
     "text": [
      "the volume of the sphere is 904.32\n"
     ]
    }
   ],
   "source": [
    "# 5. Write a Python program to get the volume of a sphere with radius\n",
    "# The volume of the sphere is : V = 4/3 × π × r3 = π × d3/6.\n",
    "r = 6\n",
    "pi = 3.14\n",
    "formula = 4/3 * pi * r**3\n",
    "print(\"the volume of the sphere is\", round(formula, 3))\n"
   ]
  },
  {
   "cell_type": "code",
   "execution_count": 2,
   "metadata": {},
   "outputs": [
    {
     "name": "stdout",
     "output_type": "stream",
     "text": [
      "The value is Greater than 17\n",
      "The absolute difference:  6\n"
     ]
    }
   ],
   "source": [
    "# 6. Write a Python program to get the difference between a given number and 17, if the number is greater than 17 return\n",
    "# double the absolute difference.\n",
    "x = eval(input(\"Enter the integer: \"))\n",
    "if  x > 17:\n",
    "    print(\"The value is Greater than 17\")\n",
    "    y = (x - 17)\n",
    "    dif = abs(y * 2)\n",
    "    print(\"The absolute difference: \", dif)\n"
   ]
  },
  {
   "cell_type": "code",
   "execution_count": 14,
   "metadata": {},
   "outputs": [
    {
     "name": "stdout",
     "output_type": "stream",
     "text": [
      "12\n",
      "27\n"
     ]
    }
   ],
   "source": [
    "# 7. Write a Python program to calculate the sum of three given numbers, if the values are equal then return thrice of their\n",
    "# sum.\n",
    "def sum_thrice(x, y, z):\n",
    "    sum = x + y + z\n",
    "\n",
    "    if x == y == z:\n",
    "        sum = sum * 3\n",
    "    return sum\n",
    "\n",
    "print(sum_thrice(3, 4, 5))\n",
    "print(sum_thrice(3, 3, 3))"
   ]
  },
  {
   "cell_type": "code",
   "execution_count": 15,
   "metadata": {},
   "outputs": [
    {
     "name": "stdout",
     "output_type": "stream",
     "text": [
      "This is an odd integer.\n"
     ]
    }
   ],
   "source": [
    "# 8. Write a Python program to find whether a given number (accept from the user) is even or odd, print out an appropriate\n",
    "# message to the user.\n",
    "num = int(input(\"Enter the integer: \"))\n",
    "integer = num % 2\n",
    "if integer > 0:\n",
    "    print(\"This is an odd integer.\")\n",
    "else:\n",
    "    print(\"This is an even integer.\")\n"
   ]
  },
  {
   "cell_type": "code",
   "execution_count": 17,
   "metadata": {},
   "outputs": [
    {
     "name": "stdout",
     "output_type": "stream",
     "text": [
      "dis is a vowel mate.\n"
     ]
    }
   ],
   "source": [
    "# 9. Write a Python program to test whether a letter is a vowel or not\n",
    "x = input(\"Input a letter of the alphabet: \")\n",
    "\n",
    "if x in ('a', 'e', 'i', 'o', 'u'):\n",
    "    print(\"dis is a vowel mate.\" )\n",
    "else:\n",
    "    print(\"nah dis aint a vowel chief.\" )\n"
   ]
  },
  {
   "cell_type": "code",
   "execution_count": 21,
   "metadata": {},
   "outputs": [
    {
     "name": "stdout",
     "output_type": "stream",
     "text": [
      "you're either joking are just too smart for my program to comprehend, just kidding it does not belong, like you in ur family >:O \n"
     ]
    }
   ],
   "source": [
    "# 10.Write a Python program to check whether a specified value is contained in a group of values\n",
    "\n",
    "x = input(\"Type here: \")\n",
    "\n",
    "if x in ('1', '2', '3', '4', '5'):\n",
    "    print(\"this belongs in a group of random numbers\")\n",
    "else:\n",
    "    print(\"you're either joking are just too smart for my program to comprehend, just kidding it does not belong, like you in ur family >:O \")\n"
   ]
  },
  {
   "cell_type": "code",
   "execution_count": 3,
   "metadata": {},
   "outputs": [
    {
     "name": "stdout",
     "output_type": "stream",
     "text": [
      "*****\n",
      "***\n",
      "****\n",
      "******\n",
      "*******\n"
     ]
    }
   ],
   "source": [
    "#11.Write a Python program to create a histogram from a given list of integers\n",
    "def histogram(items):\n",
    "    for x in items:\n",
    "        output = ''\n",
    "        times = x\n",
    "        while( times > 0 ):\n",
    "          output += '*'\n",
    "          times = times - 1\n",
    "        print(output)\n",
    "histogram([5,3,4,6,7])"
   ]
  },
  {
   "cell_type": "code",
   "execution_count": 4,
   "metadata": {},
   "outputs": [
    {
     "name": "stdout",
     "output_type": "stream",
     "text": [
      "386\n",
      "462\n",
      "418\n",
      "344\n",
      "236\n",
      "566\n",
      "978\n",
      "328\n",
      "162\n",
      "758\n",
      "918\n",
      "412\n",
      "566\n",
      "826\n",
      "248\n",
      "866\n",
      "950\n",
      "626\n",
      "104\n",
      "58\n",
      "512\n",
      "24\n",
      "892\n",
      "894\n",
      "742\n",
      "958\n"
     ]
    }
   ],
   "source": [
    "# 12.Write a Python program to print all even numbers from a given numbers list in the same order.\n",
    "# Sample numbers list :\n",
    "# numbers = [\n",
    "#  386, 462, 47, 418, 907, 344, 236, 375, 823, 566, 597, 978, 328, 615, 953, 345,\n",
    "#  399, 162, 758, 219, 918, 237, 412, 566, 826, 248, 866, 950, 626, 949, 687, 217,\n",
    "#  815, 67, 104, 58, 512, 24, 892, 894, 767, 553, 81, 379, 843, 831, 445, 742, 717,\n",
    "#  958,743, 527 ]\n",
    "numbers = [386, 462, 47, 418, 907, 344, 236, 375, 823, 566, 597, 978, 328, 615, 953, 345,\n",
    " 399, 162, 758, 219, 918, 237, 412, 566, 826, 248, 866, 950, 626, 949, 687, 217,\n",
    " 815, 67, 104, 58, 512, 24, 892, 894, 767, 553, 81, 379, 843, 831, 445, 742, 717,\n",
    " 958,743, 527]\n",
    "for x in numbers:\n",
    "    if x%2==0:\n",
    "        print(x)"
   ]
  },
  {
   "cell_type": "code",
   "execution_count": 5,
   "metadata": {},
   "outputs": [
    {
     "name": "stdout",
     "output_type": "stream",
     "text": [
      "The area of the triangle is 270.0 cm**2\n"
     ]
    }
   ],
   "source": [
    "# 13.Write a Python program that will accept the base and height of a triangle and compute the area.\n",
    "base = eval(input(\"Enter the base of the triangle: \"))\n",
    "height = eval(input(\"Enter the height of the triangle: \"))\n",
    "area = 0.5*base*height\n",
    "print(f'The area of the triangle is {area} cm**2')"
   ]
  },
  {
   "cell_type": "code",
   "execution_count": 6,
   "metadata": {},
   "outputs": [
    {
     "name": "stdout",
     "output_type": "stream",
     "text": [
      "4\n"
     ]
    }
   ],
   "source": [
    "# 14.Write a Python program to get the least common multiple (LCM) of two positive integers.\n",
    "fInt = int(input(\"First integer:\"))\n",
    "sInt = int(input(\"Second integer:\"))\n",
    "\n",
    "def lcm(x, y):\n",
    "  if x > y:\n",
    "      z = x\n",
    "  else:\n",
    "      z = y\n",
    "  while(True):\n",
    "      if((z % x == 0) and (z % y == 0)):\n",
    "          lcm = z\n",
    "          break\n",
    "      z += 1\n",
    "  return lcm\n",
    "print(lcm(fInt,sInt))\n"
   ]
  },
  {
   "cell_type": "code",
   "execution_count": 9,
   "metadata": {},
   "outputs": [
    {
     "name": "stdout",
     "output_type": "stream",
     "text": [
      "sum is 9 hahaha\n"
     ]
    }
   ],
   "source": [
    "# 15. Write a Python program to sum of three given integers. However, if two values are equal sum will be zero.\n",
    "a = int(input(\"Enter an integer: \"))\n",
    "b = int(input(\"Enter an integer: \"))\n",
    "c = int(input(\"Enter an integer: \"))\n",
    "d = a+b+c\n",
    "if a==b or b==c or a==c:\n",
    "    print(f'sum is 0')\n",
    "else:\n",
    "    print(f'sum is {d} hahaha')"
   ]
  },
  {
   "cell_type": "code",
   "execution_count": 4,
   "metadata": {},
   "outputs": [
    {
     "name": "stdout",
     "output_type": "stream",
     "text": [
      "( 4 + 3 ) ^2 = 49\n"
     ]
    }
   ],
   "source": [
    "# 16. Write a Python program to solve (x + y) * (x + y).\n",
    "# Sample Data : x = 4, y = 3\n",
    "# Expected Output : (4 + 3) ^ 2) = 49\n",
    "x = eval(input(\"Enter the integer for x: \"))\n",
    "y = eval(input(\"Enter the Integer for y: \"))\n",
    "\n",
    "formula = (x + y) * (x + y)\n",
    "print(\"(\",x , \"+\", y, \")\", \"^2\", \"=\", formula)\n"
   ]
  },
  {
   "cell_type": "code",
   "execution_count": 11,
   "metadata": {},
   "outputs": [
    {
     "name": "stdout",
     "output_type": "stream",
     "text": [
      "12450.0\n"
     ]
    }
   ],
   "source": [
    "# 17.Write a Python program to compute the future value of a specified principal amount, rate of interest, and a number of \n",
    "# years.\n",
    "# Sample Data : amt = 10000, int = 3.5, years = 7\n",
    "# Expected Output : 12722.79\n",
    "a = eval(input(\"Amount: \"))\n",
    "b = eval(input(\"Rate of interest: \"))\n",
    "c = int(input(\"Number of years: \"))\n",
    "d = a*(b/100)*c\n",
    "print(a+d)\n"
   ]
  },
  {
   "cell_type": "code",
   "execution_count": 12,
   "metadata": {},
   "outputs": [
    {
     "name": "stdout",
     "output_type": "stream",
     "text": [
      "8,2\n"
     ]
    }
   ],
   "source": [
    "# 18. Write a Python program to compute the distance between the points (x1, y1) and (x2, y2).\n",
    "a = eval(input(\"Enter x1:\"))\n",
    "b = eval(input(\"Enter x2: \"))\n",
    "c = eval(input(\"Enter y1: \"))\n",
    "d = eval(input(\"Enter y2: \"))\n",
    "distancex=abs(a-b)\n",
    "distancey=abs(c-d)\n",
    "print(f'{distancex},{distancey}')"
   ]
  },
  {
   "cell_type": "code",
   "execution_count": 13,
   "metadata": {},
   "outputs": [
    {
     "name": "stdout",
     "output_type": "stream",
     "text": [
      "Sum of the first 4 positive integers:10.0 \n"
     ]
    }
   ],
   "source": [
    "# 19.Write a python program to sum of the first n positive integers.\n",
    "a= int(input(\"Enter an integer:\"))\n",
    "b= (a * (a+ 1)) / 2\n",
    "print(f\"Sum of the first {a} positive integers:{b} \")\n"
   ]
  },
  {
   "cell_type": "code",
   "execution_count": 10,
   "metadata": {},
   "outputs": [
    {
     "name": "stdout",
     "output_type": "stream",
     "text": [
      "200.78 cm\n"
     ]
    }
   ],
   "source": [
    "# 20.Write a Python program to convert height (in feet and inches) to centimeters.\n",
    "feet = eval(input(\"Input height in feet:\"))\n",
    "inches = eval(input(\"Input height in inches:\"))\n",
    "feet = feet*30.5\n",
    "inches = inches*2.54\n",
    "centimeter = feet + inches\n",
    "print(centimeter,\"cm\")"
   ]
  },
  {
   "cell_type": "code",
   "execution_count": 1,
   "metadata": {},
   "outputs": [
    {
     "name": "stdout",
     "output_type": "stream",
     "text": [
      "Lenght of the hypotenuse is 6.4031242374328485 cm\n"
     ]
    }
   ],
   "source": [
    "# 21.Write a Python program to calculate the hypotenuse of a right angled triangle.\n",
    "from math import sqrt\n",
    "a = eval(input(\"Enter lenght of side: \"))\n",
    "b = eval(input('Enter lenght of opposite: '))\n",
    "c = a*a+b*b\n",
    "d= sqrt(c)\n",
    "print(f'Lenght of the hypotenuse is {d} cm')\n",
    "\n"
   ]
  },
  {
   "cell_type": "code",
   "execution_count": 3,
   "metadata": {},
   "outputs": [
    {
     "name": "stdout",
     "output_type": "stream",
     "text": [
      "Your body mass index is 36.33218\n"
     ]
    }
   ],
   "source": [
    "# 22.Write a Python program to calculate body mass index.\n",
    "a = eval(input(\"Input your weight (Kg):\"))\n",
    "b = eval(input(\"Input your height (M):\"))\n",
    "bmi = a/(b**2)\n",
    "print(f\"Your body mass index is {round(bmi,5)}\")"
   ]
  },
  {
   "cell_type": "code",
   "execution_count": 6,
   "metadata": {},
   "outputs": [
    {
     "name": "stdout",
     "output_type": "stream",
     "text": [
      "The midpoint is 4.0,5.0\n"
     ]
    }
   ],
   "source": [
    "# 23.Write a Python program to calculate midpoints of a line.\n",
    "x1 = eval(input(\"Enter x1:\"))\n",
    "y1 =eval(input(\"Enter y1:\"))\n",
    "x2 = eval(input(\"Enter x2:\"))\n",
    "y2 = eval(input(\"Enter y2:\"))\n",
    "midpX = (x1+x2)/2 \n",
    "midpY = (y1+y2)/2\n",
    "print(f\"The midpoint is {midpX},{midpY}\")\n"
   ]
  },
  {
   "cell_type": "code",
   "execution_count": 5,
   "metadata": {},
   "outputs": [
    {
     "name": "stdout",
     "output_type": "stream",
     "text": [
      "[2002, 2009, 2016, 2023, 2037, 2044, 2051, 2058, 2072, 2079, 2086, 2093, 2107, 2114, 2121, 2128, 2142, 2149, 2156, 2163, 2177, 2184, 2191, 2198, 2212, 2219, 2226, 2233, 2247, 2254, 2261, 2268, 2282, 2289, 2296, 2303, 2317, 2324, 2331, 2338, 2352, 2359, 2366, 2373, 2387, 2394, 2401, 2408, 2422, 2429, 2436, 2443, 2457, 2464, 2471, 2478, 2492, 2499, 2506, 2513, 2527, 2534, 2541, 2548, 2562, 2569, 2576, 2583, 2597, 2604, 2611, 2618, 2632, 2639, 2646, 2653, 2667, 2674, 2681, 2688, 2702, 2709, 2716, 2723, 2737, 2744, 2751, 2758, 2772, 2779, 2786, 2793, 2807, 2814, 2821, 2828, 2842, 2849, 2856, 2863, 2877, 2884, 2891, 2898, 2912, 2919, 2926, 2933, 2947, 2954, 2961, 2968, 2982, 2989, 2996, 3003, 3017, 3024, 3031, 3038, 3052, 3059, 3066, 3073, 3087, 3094, 3101, 3108, 3122, 3129, 3136, 3143, 3157, 3164, 3171, 3178, 3192, 3199]\n"
     ]
    }
   ],
   "source": [
    "# 24.Write a program which will find all such numbers which are divisible by 7 but are not a multiple of 5, between 2000 and \n",
    "# 3200 (both included). The numbers obtained should be printed in a comma-separated sequence on a single line.\n",
    "# Hints: \n",
    "# Consider use range(#begin, #end) method\n",
    "a =[]\n",
    "for i in range (2000,3200):\n",
    "    if i % 7 == 0 and i % 5 != 0:\n",
    "        a.append(i)\n",
    "print(a)"
   ]
  }
 ],
 "metadata": {
  "kernelspec": {
   "display_name": "Python 3.10.7 64-bit (microsoft store)",
   "language": "python",
   "name": "python3"
  },
  "language_info": {
   "codemirror_mode": {
    "name": "ipython",
    "version": 3
   },
   "file_extension": ".py",
   "mimetype": "text/x-python",
   "name": "python",
   "nbconvert_exporter": "python",
   "pygments_lexer": "ipython3",
   "version": "3.10.7"
  },
  "orig_nbformat": 4,
  "vscode": {
   "interpreter": {
    "hash": "14bb9c15f69d3d659a3eeb79c3ddb6793469c188bde0000e79dba1dcb73eb538"
   }
  }
 },
 "nbformat": 4,
 "nbformat_minor": 2
}
